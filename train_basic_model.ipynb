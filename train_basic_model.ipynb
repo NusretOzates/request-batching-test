{
 "cells": [
  {
   "cell_type": "code",
   "execution_count": 273,
   "id": "5d628837-6be0-4c70-a1ac-18e7b911ba13",
   "metadata": {},
   "outputs": [],
   "source": [
    "import os\n",
    "os.environ[\"TF_CPP_MIN_LOG_LEVEL\"] = \"3\" # or any {‘0’, ‘1’, ‘2’}\n",
    "\n",
    "import tensorflow as tf\n",
    "import numpy as np\n",
    "from keras.layers import Dense, Input\n",
    "from keras.optimizers import Adam\n",
    "from keras.losses import MeanSquaredError\n",
    "from keras import Sequential\n"
   ]
  },
  {
   "cell_type": "code",
   "execution_count": 274,
   "id": "ba2707b5-5f0e-4ca2-b368-e70a156fe3dc",
   "metadata": {},
   "outputs": [],
   "source": [
    "model = Sequential([\n",
    " Input((1,)),\n",
    "    Dense(64,'relu'),\n",
    "    Dense(64,'relu'),\n",
    "    Dense(64,'relu'),\n",
    "    Dense(64,'relu'),\n",
    " Dense(1)\n",
    "])"
   ]
  },
  {
   "cell_type": "code",
   "execution_count": 275,
   "id": "317767c4-c3f5-4678-a3a7-ea7e94ca5c3f",
   "metadata": {},
   "outputs": [],
   "source": [
    "model.compile(\n",
    "    optimizer = Adam(),\n",
    "    loss = MeanSquaredError()\n",
    ")"
   ]
  },
  {
   "cell_type": "code",
   "execution_count": 280,
   "id": "3455407e-cd42-4c46-b25e-defe4e5b1712",
   "metadata": {},
   "outputs": [],
   "source": [
    "train_data_x = np.arange (0, 1000000, 0.1)\n",
    "train_data_y = train_data_x * 2"
   ]
  },
  {
   "cell_type": "code",
   "execution_count": 281,
   "id": "c02db807-64be-4967-b7e6-751245372208",
   "metadata": {},
   "outputs": [],
   "source": [
    "test_data_x = np.arange (5550000, 6650000, 1)\n",
    "test_data_y = test_data_x * 2"
   ]
  },
  {
   "cell_type": "code",
   "execution_count": 282,
   "id": "808fd15b-8ffd-4ba7-8c7a-79ac0cd03efa",
   "metadata": {},
   "outputs": [
    {
     "name": "stdout",
     "output_type": "stream",
     "text": [
      "Epoch 1/3\n",
      "611/611 [==============================] - 6s 9ms/step - loss: 0.1614 - val_loss: 31.7073\n",
      "Epoch 2/3\n",
      "611/611 [==============================] - 5s 8ms/step - loss: 88.5200 - val_loss: 39.3896\n",
      "Epoch 3/3\n",
      "611/611 [==============================] - 5s 8ms/step - loss: 17091.8730 - val_loss: 38.4567\n"
     ]
    }
   ],
   "source": [
    "history = model.fit(x = train_data_x, y= train_data_y, validation_data=(test_data_x, test_data_y) ,batch_size=16384, epochs =3)"
   ]
  },
  {
   "cell_type": "code",
   "execution_count": 288,
   "id": "c24a3deb-3989-4838-9c3c-abc1fd210c55",
   "metadata": {},
   "outputs": [
    {
     "name": "stdout",
     "output_type": "stream",
     "text": [
      "1/1 [==============================] - 0s 43ms/step\n"
     ]
    },
    {
     "data": {
      "text/plain": [
       "array([[2000.6908]], dtype=float32)"
      ]
     },
     "execution_count": 288,
     "metadata": {},
     "output_type": "execute_result"
    }
   ],
   "source": [
    "model.predict([1000])"
   ]
  },
  {
   "cell_type": "code",
   "execution_count": 289,
   "id": "9beef482-3209-4e9e-a64c-955d049b0375",
   "metadata": {},
   "outputs": [
    {
     "name": "stdout",
     "output_type": "stream",
     "text": [
      "INFO:tensorflow:Assets written to: models/multiply_two/assets\n"
     ]
    }
   ],
   "source": [
    "model.save(\"models/multiply_two\")"
   ]
  },
  {
   "cell_type": "code",
   "execution_count": null,
   "id": "920861e7-6001-4c6a-86d5-345ea03eb4f2",
   "metadata": {},
   "outputs": [],
   "source": []
  }
 ],
 "metadata": {
  "kernelspec": {
   "display_name": "Python 3 (ipykernel)",
   "language": "python",
   "name": "python3"
  },
  "language_info": {
   "codemirror_mode": {
    "name": "ipython",
    "version": 3
   },
   "file_extension": ".py",
   "mimetype": "text/x-python",
   "name": "python",
   "nbconvert_exporter": "python",
   "pygments_lexer": "ipython3",
   "version": "3.8.10"
  }
 },
 "nbformat": 4,
 "nbformat_minor": 5
}
